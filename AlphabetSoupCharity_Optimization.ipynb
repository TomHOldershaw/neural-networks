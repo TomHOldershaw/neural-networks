{
  "nbformat": 4,
  "nbformat_minor": 0,
  "metadata": {
    "colab": {
      "name": "AlphabetSoupCharity_Optimization.ipynb",
      "provenance": []
    },
    "kernelspec": {
      "name": "python3",
      "display_name": "Python 3"
    },
    "language_info": {
      "name": "python"
    }
  },
  "cells": [
    {
      "cell_type": "markdown",
      "metadata": {
        "id": "nw7P2PPc__C_"
      },
      "source": [
        "Reproduce data processing steps from previous notebook"
      ]
    },
    {
      "cell_type": "code",
      "metadata": {
        "colab": {
          "base_uri": "https://localhost:8080/",
          "height": 258
        },
        "id": "sihNDu3m_qsC",
        "outputId": "ba4c290d-a34c-4723-8705-d01a5aef9be8"
      },
      "source": [
        "# Import our dependencies\n",
        "from sklearn.model_selection import train_test_split\n",
        "from sklearn.preprocessing import StandardScaler\n",
        "import pandas as pd\n",
        "import tensorflow as tf\n",
        "\n",
        "#  Import and read the charity_data.csv.\n",
        "import pandas as pd \n",
        "application_df = pd.read_csv(\"charity_data.csv\")\n",
        "application_df.head()"
      ],
      "execution_count": 1,
      "outputs": [
        {
          "output_type": "execute_result",
          "data": {
            "text/html": [
              "<div>\n",
              "<style scoped>\n",
              "    .dataframe tbody tr th:only-of-type {\n",
              "        vertical-align: middle;\n",
              "    }\n",
              "\n",
              "    .dataframe tbody tr th {\n",
              "        vertical-align: top;\n",
              "    }\n",
              "\n",
              "    .dataframe thead th {\n",
              "        text-align: right;\n",
              "    }\n",
              "</style>\n",
              "<table border=\"1\" class=\"dataframe\">\n",
              "  <thead>\n",
              "    <tr style=\"text-align: right;\">\n",
              "      <th></th>\n",
              "      <th>EIN</th>\n",
              "      <th>NAME</th>\n",
              "      <th>APPLICATION_TYPE</th>\n",
              "      <th>AFFILIATION</th>\n",
              "      <th>CLASSIFICATION</th>\n",
              "      <th>USE_CASE</th>\n",
              "      <th>ORGANIZATION</th>\n",
              "      <th>STATUS</th>\n",
              "      <th>INCOME_AMT</th>\n",
              "      <th>SPECIAL_CONSIDERATIONS</th>\n",
              "      <th>ASK_AMT</th>\n",
              "      <th>IS_SUCCESSFUL</th>\n",
              "    </tr>\n",
              "  </thead>\n",
              "  <tbody>\n",
              "    <tr>\n",
              "      <th>0</th>\n",
              "      <td>10520599</td>\n",
              "      <td>BLUE KNIGHTS MOTORCYCLE CLUB</td>\n",
              "      <td>T10</td>\n",
              "      <td>Independent</td>\n",
              "      <td>C1000</td>\n",
              "      <td>ProductDev</td>\n",
              "      <td>Association</td>\n",
              "      <td>1</td>\n",
              "      <td>0</td>\n",
              "      <td>N</td>\n",
              "      <td>5000</td>\n",
              "      <td>1</td>\n",
              "    </tr>\n",
              "    <tr>\n",
              "      <th>1</th>\n",
              "      <td>10531628</td>\n",
              "      <td>AMERICAN CHESAPEAKE CLUB CHARITABLE TR</td>\n",
              "      <td>T3</td>\n",
              "      <td>Independent</td>\n",
              "      <td>C2000</td>\n",
              "      <td>Preservation</td>\n",
              "      <td>Co-operative</td>\n",
              "      <td>1</td>\n",
              "      <td>1-9999</td>\n",
              "      <td>N</td>\n",
              "      <td>108590</td>\n",
              "      <td>1</td>\n",
              "    </tr>\n",
              "    <tr>\n",
              "      <th>2</th>\n",
              "      <td>10547893</td>\n",
              "      <td>ST CLOUD PROFESSIONAL FIREFIGHTERS</td>\n",
              "      <td>T5</td>\n",
              "      <td>CompanySponsored</td>\n",
              "      <td>C3000</td>\n",
              "      <td>ProductDev</td>\n",
              "      <td>Association</td>\n",
              "      <td>1</td>\n",
              "      <td>0</td>\n",
              "      <td>N</td>\n",
              "      <td>5000</td>\n",
              "      <td>0</td>\n",
              "    </tr>\n",
              "    <tr>\n",
              "      <th>3</th>\n",
              "      <td>10553066</td>\n",
              "      <td>SOUTHSIDE ATHLETIC ASSOCIATION</td>\n",
              "      <td>T3</td>\n",
              "      <td>CompanySponsored</td>\n",
              "      <td>C2000</td>\n",
              "      <td>Preservation</td>\n",
              "      <td>Trust</td>\n",
              "      <td>1</td>\n",
              "      <td>10000-24999</td>\n",
              "      <td>N</td>\n",
              "      <td>6692</td>\n",
              "      <td>1</td>\n",
              "    </tr>\n",
              "    <tr>\n",
              "      <th>4</th>\n",
              "      <td>10556103</td>\n",
              "      <td>GENETIC RESEARCH INSTITUTE OF THE DESERT</td>\n",
              "      <td>T3</td>\n",
              "      <td>Independent</td>\n",
              "      <td>C1000</td>\n",
              "      <td>Heathcare</td>\n",
              "      <td>Trust</td>\n",
              "      <td>1</td>\n",
              "      <td>100000-499999</td>\n",
              "      <td>N</td>\n",
              "      <td>142590</td>\n",
              "      <td>1</td>\n",
              "    </tr>\n",
              "  </tbody>\n",
              "</table>\n",
              "</div>"
            ],
            "text/plain": [
              "        EIN                                      NAME  ... ASK_AMT IS_SUCCESSFUL\n",
              "0  10520599              BLUE KNIGHTS MOTORCYCLE CLUB  ...    5000             1\n",
              "1  10531628    AMERICAN CHESAPEAKE CLUB CHARITABLE TR  ...  108590             1\n",
              "2  10547893        ST CLOUD PROFESSIONAL FIREFIGHTERS  ...    5000             0\n",
              "3  10553066            SOUTHSIDE ATHLETIC ASSOCIATION  ...    6692             1\n",
              "4  10556103  GENETIC RESEARCH INSTITUTE OF THE DESERT  ...  142590             1\n",
              "\n",
              "[5 rows x 12 columns]"
            ]
          },
          "metadata": {},
          "execution_count": 1
        }
      ]
    },
    {
      "cell_type": "code",
      "metadata": {
        "id": "6ffk1ZZi_7kw"
      },
      "source": [
        "# Drop the non-beneficial ID columns, 'EIN' and 'NAME'.\n",
        "application_df = application_df.drop([\"EIN\", \"NAME\"], axis=1)\n",
        "\n",
        "# Choose a cutoff value and create a list of application types to be replaced\n",
        "# use the variable name `application_types_to_replace`\n",
        "\n",
        "# All application types with less than 500 applications \n",
        "application_types_to_replace = ['T17', 'T29', 'T15', 'T25', 'T14', 'T2', 'T12', 'T13', 'T9']\n",
        "\n",
        "# Replace in dataframe\n",
        "for app in application_types_to_replace:\n",
        "    application_df['APPLICATION_TYPE'] = application_df['APPLICATION_TYPE'].replace(app,\"Other\")\n",
        "\n",
        "# Choose a cutoff value and create a list of classifications to be replaced\n",
        "# use the variable name `classifications_to_replace`\n",
        "\n",
        "# All classifications less than 100\n",
        "val_counts = application_df['CLASSIFICATION'].value_counts()\n",
        "classifications_to_replace = val_counts.loc[val_counts < 100].index\n",
        "\n",
        "# Replace in dataframe\n",
        "for cls in classifications_to_replace:\n",
        "    application_df['CLASSIFICATION'] = application_df['CLASSIFICATION'].replace(cls,\"Other\")\n",
        "\n",
        "# Convert categorical data to numeric with `pd.get_dummies`\n",
        "app_dummies = pd.get_dummies(application_df)\n",
        "\n",
        "# Split our preprocessed data into our features and target arrays\n",
        "target = app_dummies['IS_SUCCESSFUL']\n",
        "app_dummies = app_dummies.drop('IS_SUCCESSFUL', axis=1)\n",
        "\n",
        "# Split the preprocessed data into a training and testing dataset\n",
        "(X_train, X_test, y_train, y_test) = train_test_split(app_dummies, target, random_state=76)\n",
        "\n",
        "# Create a StandardScaler instances\n",
        "scaler = StandardScaler()\n",
        "\n",
        "# Fit the StandardScaler\n",
        "X_scaler = scaler.fit(X_train)\n",
        "\n",
        "# Scale the data\n",
        "X_train_scaled = X_scaler.transform(X_train)\n",
        "X_test_scaled = X_scaler.transform(X_test)"
      ],
      "execution_count": 2,
      "outputs": []
    },
    {
      "cell_type": "markdown",
      "metadata": {
        "id": "_oU_G1UxA71Z"
      },
      "source": [
        "Optimisation 1: adjusting model structure"
      ]
    },
    {
      "cell_type": "code",
      "metadata": {
        "colab": {
          "base_uri": "https://localhost:8080/"
        },
        "id": "3cmmITh0BA4x",
        "outputId": "50377d1f-947a-4c30-9afe-07824571e914"
      },
      "source": [
        "# Define the model - deep neural net, i.e., the number of input features and hidden nodes for each layer.\n",
        "\n",
        "nn1 = tf.keras.models.Sequential()\n",
        "\n",
        "# First hidden layer\n",
        "nn1.add(tf.keras.layers.Dense(units=15, activation=\"relu\", input_dim=49))\n",
        "\n",
        "# Second hidden layer\n",
        "nn1.add(tf.keras.layers.Dense(units=10, activation=\"relu\"))\n",
        "\n",
        "# Output layer\n",
        "nn1.add(tf.keras.layers.Dense(units=1, activation=\"sigmoid\"))\n",
        "\n",
        "# Check the structure of the model\n",
        "nn1.summary()"
      ],
      "execution_count": 3,
      "outputs": [
        {
          "output_type": "stream",
          "name": "stdout",
          "text": [
            "Model: \"sequential\"\n",
            "_________________________________________________________________\n",
            " Layer (type)                Output Shape              Param #   \n",
            "=================================================================\n",
            " dense (Dense)               (None, 15)                750       \n",
            "                                                                 \n",
            " dense_1 (Dense)             (None, 10)                160       \n",
            "                                                                 \n",
            " dense_2 (Dense)             (None, 1)                 11        \n",
            "                                                                 \n",
            "=================================================================\n",
            "Total params: 921\n",
            "Trainable params: 921\n",
            "Non-trainable params: 0\n",
            "_________________________________________________________________\n"
          ]
        }
      ]
    },
    {
      "cell_type": "code",
      "metadata": {
        "colab": {
          "base_uri": "https://localhost:8080/"
        },
        "id": "bx_ckVwtBKyf",
        "outputId": "060ed547-c727-45c5-ed64-63d156a37af8"
      },
      "source": [
        "# Compile the model\n",
        "nn1.compile(loss=\"binary_crossentropy\", optimizer=\"adam\", metrics=[\"accuracy\", \"AUC\"],steps_per_execution=None)\n",
        "# Train the model\n",
        "fit_output = nn1.fit(X_train_scaled, y_train, epochs=20)"
      ],
      "execution_count": 4,
      "outputs": [
        {
          "output_type": "stream",
          "name": "stdout",
          "text": [
            "Epoch 1/20\n",
            "804/804 [==============================] - 2s 1ms/step - loss: 0.6121 - accuracy: 0.6955 - auc: 0.7339\n",
            "Epoch 2/20\n",
            "804/804 [==============================] - 1s 1ms/step - loss: 0.5556 - accuracy: 0.7281 - auc: 0.7823\n",
            "Epoch 3/20\n",
            "804/804 [==============================] - 1s 1ms/step - loss: 0.5509 - accuracy: 0.7296 - auc: 0.7858\n",
            "Epoch 4/20\n",
            "804/804 [==============================] - 1s 1ms/step - loss: 0.5487 - accuracy: 0.7294 - auc: 0.7875\n",
            "Epoch 5/20\n",
            "804/804 [==============================] - 1s 1ms/step - loss: 0.5471 - accuracy: 0.7313 - auc: 0.7887\n",
            "Epoch 6/20\n",
            "804/804 [==============================] - 1s 1ms/step - loss: 0.5454 - accuracy: 0.7338 - auc: 0.7902\n",
            "Epoch 7/20\n",
            "804/804 [==============================] - 1s 1ms/step - loss: 0.5448 - accuracy: 0.7329 - auc: 0.7907\n",
            "Epoch 8/20\n",
            "804/804 [==============================] - 1s 1ms/step - loss: 0.5440 - accuracy: 0.7316 - auc: 0.7912\n",
            "Epoch 9/20\n",
            "804/804 [==============================] - 1s 1ms/step - loss: 0.5431 - accuracy: 0.7322 - auc: 0.7921\n",
            "Epoch 10/20\n",
            "804/804 [==============================] - 1s 1ms/step - loss: 0.5427 - accuracy: 0.7330 - auc: 0.7930\n",
            "Epoch 11/20\n",
            "804/804 [==============================] - 1s 1ms/step - loss: 0.5423 - accuracy: 0.7339 - auc: 0.7928\n",
            "Epoch 12/20\n",
            "804/804 [==============================] - 1s 1ms/step - loss: 0.5419 - accuracy: 0.7334 - auc: 0.7932\n",
            "Epoch 13/20\n",
            "804/804 [==============================] - 1s 1ms/step - loss: 0.5414 - accuracy: 0.7337 - auc: 0.7940\n",
            "Epoch 14/20\n",
            "804/804 [==============================] - 1s 1ms/step - loss: 0.5407 - accuracy: 0.7352 - auc: 0.7943\n",
            "Epoch 15/20\n",
            "804/804 [==============================] - 1s 1ms/step - loss: 0.5407 - accuracy: 0.7350 - auc: 0.7938\n",
            "Epoch 16/20\n",
            "804/804 [==============================] - 1s 1ms/step - loss: 0.5404 - accuracy: 0.7346 - auc: 0.7937\n",
            "Epoch 17/20\n",
            "804/804 [==============================] - 1s 1ms/step - loss: 0.5400 - accuracy: 0.7349 - auc: 0.7946\n",
            "Epoch 18/20\n",
            "804/804 [==============================] - 1s 1ms/step - loss: 0.5400 - accuracy: 0.7352 - auc: 0.7947\n",
            "Epoch 19/20\n",
            "804/804 [==============================] - 1s 1ms/step - loss: 0.5397 - accuracy: 0.7359 - auc: 0.7950\n",
            "Epoch 20/20\n",
            "804/804 [==============================] - 1s 1ms/step - loss: 0.5397 - accuracy: 0.7355 - auc: 0.7948\n"
          ]
        }
      ]
    },
    {
      "cell_type": "code",
      "metadata": {
        "colab": {
          "base_uri": "https://localhost:8080/"
        },
        "id": "Va8PbT44LCUh",
        "outputId": "0659eefa-16a2-4bd4-dcf0-dbcfbd66d363"
      },
      "source": [
        "# Evaluate the model using the test data\n",
        "model_loss, model_accuracy, model_AUC = nn1.evaluate(X_test_scaled,y_test,verbose=2)\n",
        "print(f\"Loss: {model_loss}, Accuracy: {model_accuracy}, AUC: {model_AUC}\")"
      ],
      "execution_count": 5,
      "outputs": [
        {
          "output_type": "stream",
          "name": "stdout",
          "text": [
            "268/268 - 0s - loss: 0.5578 - accuracy: 0.7286 - auc: 0.7830 - 414ms/epoch - 2ms/step\n",
            "Loss: 0.5577555298805237, Accuracy: 0.7286297082901001, AUC: 0.7829667925834656\n"
          ]
        }
      ]
    },
    {
      "cell_type": "markdown",
      "metadata": {
        "id": "D5FAhvhgC5m_"
      },
      "source": [
        "Optimisation 2 : autotuning"
      ]
    },
    {
      "cell_type": "code",
      "metadata": {
        "id": "NY7csOIwC4b2"
      },
      "source": [
        "# Create a method that creates a new Sequential model with hyperparameter options\n",
        "def create_model(hp):\n",
        "    nn2 = tf.keras.models.Sequential()\n",
        "\n",
        "    # Allow kerastuner to decide which activation function to use in hidden layers\n",
        "    activation = hp.Choice('activation',['relu','tanh','sigmoid'])\n",
        "    \n",
        "    # Allow kerastuner to decide number of neurons in first layer\n",
        "    units_param = hp.Int('first_units', min_value=1, max_value=10, step=2)\n",
        "    nn2.add(tf.keras.layers.Dense(units=units_param, activation=activation, input_dim=49))\n",
        "\n",
        "    # Allow kerastuner to decide number of hidden layers and neurons in hidden layers\n",
        "    for i in range(hp.Int('num_layers', 1, 6)):\n",
        "      units_param = hp.Int('units_'+ str(i), min_value=1, max_value=10, step=2)\n",
        "      nn2.add(tf.keras.layers.Dense(units=units_param, activation=activation))\n",
        "\n",
        "    # Add output layer\n",
        "    nn2.add(tf.keras.layers.Dense(units=1, activation=\"sigmoid\"))\n",
        "\n",
        "    # Compile the model\n",
        "    nn2.compile(loss=\"binary_crossentropy\", optimizer='adam', metrics=[\"accuracy\"])\n",
        "    \n",
        "    return nn2"
      ],
      "execution_count": 6,
      "outputs": []
    },
    {
      "cell_type": "code",
      "metadata": {
        "colab": {
          "base_uri": "https://localhost:8080/"
        },
        "id": "3C-IhQmxDbMQ",
        "outputId": "cbe18b90-00ab-417e-a260-11cd63a39da0"
      },
      "source": [
        "!pip install keras-tuner"
      ],
      "execution_count": 7,
      "outputs": [
        {
          "output_type": "stream",
          "name": "stdout",
          "text": [
            "Collecting keras-tuner\n",
            "  Downloading keras_tuner-1.1.0-py3-none-any.whl (98 kB)\n",
            "\u001b[?25l\r\u001b[K     |███▍                            | 10 kB 27.8 MB/s eta 0:00:01\r\u001b[K     |██████▊                         | 20 kB 36.1 MB/s eta 0:00:01\r\u001b[K     |██████████                      | 30 kB 42.8 MB/s eta 0:00:01\r\u001b[K     |█████████████▍                  | 40 kB 29.6 MB/s eta 0:00:01\r\u001b[K     |████████████████▊               | 51 kB 16.0 MB/s eta 0:00:01\r\u001b[K     |████████████████████            | 61 kB 18.2 MB/s eta 0:00:01\r\u001b[K     |███████████████████████▍        | 71 kB 13.2 MB/s eta 0:00:01\r\u001b[K     |██████████████████████████▊     | 81 kB 14.7 MB/s eta 0:00:01\r\u001b[K     |██████████████████████████████  | 92 kB 13.0 MB/s eta 0:00:01\r\u001b[K     |████████████████████████████████| 98 kB 4.9 MB/s \n",
            "\u001b[?25hCollecting kt-legacy\n",
            "  Downloading kt_legacy-1.0.4-py3-none-any.whl (9.6 kB)\n",
            "Requirement already satisfied: requests in /usr/local/lib/python3.7/dist-packages (from keras-tuner) (2.23.0)\n",
            "Requirement already satisfied: scipy in /usr/local/lib/python3.7/dist-packages (from keras-tuner) (1.4.1)\n",
            "Requirement already satisfied: ipython in /usr/local/lib/python3.7/dist-packages (from keras-tuner) (5.5.0)\n",
            "Requirement already satisfied: packaging in /usr/local/lib/python3.7/dist-packages (from keras-tuner) (21.3)\n",
            "Requirement already satisfied: tensorboard in /usr/local/lib/python3.7/dist-packages (from keras-tuner) (2.7.0)\n",
            "Requirement already satisfied: numpy in /usr/local/lib/python3.7/dist-packages (from keras-tuner) (1.19.5)\n",
            "Requirement already satisfied: simplegeneric>0.8 in /usr/local/lib/python3.7/dist-packages (from ipython->keras-tuner) (0.8.1)\n",
            "Requirement already satisfied: pexpect in /usr/local/lib/python3.7/dist-packages (from ipython->keras-tuner) (4.8.0)\n",
            "Requirement already satisfied: pickleshare in /usr/local/lib/python3.7/dist-packages (from ipython->keras-tuner) (0.7.5)\n",
            "Requirement already satisfied: pygments in /usr/local/lib/python3.7/dist-packages (from ipython->keras-tuner) (2.6.1)\n",
            "Requirement already satisfied: traitlets>=4.2 in /usr/local/lib/python3.7/dist-packages (from ipython->keras-tuner) (5.1.1)\n",
            "Requirement already satisfied: prompt-toolkit<2.0.0,>=1.0.4 in /usr/local/lib/python3.7/dist-packages (from ipython->keras-tuner) (1.0.18)\n",
            "Requirement already satisfied: setuptools>=18.5 in /usr/local/lib/python3.7/dist-packages (from ipython->keras-tuner) (57.4.0)\n",
            "Requirement already satisfied: decorator in /usr/local/lib/python3.7/dist-packages (from ipython->keras-tuner) (4.4.2)\n",
            "Requirement already satisfied: wcwidth in /usr/local/lib/python3.7/dist-packages (from prompt-toolkit<2.0.0,>=1.0.4->ipython->keras-tuner) (0.2.5)\n",
            "Requirement already satisfied: six>=1.9.0 in /usr/local/lib/python3.7/dist-packages (from prompt-toolkit<2.0.0,>=1.0.4->ipython->keras-tuner) (1.15.0)\n",
            "Requirement already satisfied: pyparsing!=3.0.5,>=2.0.2 in /usr/local/lib/python3.7/dist-packages (from packaging->keras-tuner) (3.0.6)\n",
            "Requirement already satisfied: ptyprocess>=0.5 in /usr/local/lib/python3.7/dist-packages (from pexpect->ipython->keras-tuner) (0.7.0)\n",
            "Requirement already satisfied: certifi>=2017.4.17 in /usr/local/lib/python3.7/dist-packages (from requests->keras-tuner) (2021.10.8)\n",
            "Requirement already satisfied: urllib3!=1.25.0,!=1.25.1,<1.26,>=1.21.1 in /usr/local/lib/python3.7/dist-packages (from requests->keras-tuner) (1.24.3)\n",
            "Requirement already satisfied: chardet<4,>=3.0.2 in /usr/local/lib/python3.7/dist-packages (from requests->keras-tuner) (3.0.4)\n",
            "Requirement already satisfied: idna<3,>=2.5 in /usr/local/lib/python3.7/dist-packages (from requests->keras-tuner) (2.10)\n",
            "Requirement already satisfied: wheel>=0.26 in /usr/local/lib/python3.7/dist-packages (from tensorboard->keras-tuner) (0.37.0)\n",
            "Requirement already satisfied: google-auth<3,>=1.6.3 in /usr/local/lib/python3.7/dist-packages (from tensorboard->keras-tuner) (1.35.0)\n",
            "Requirement already satisfied: protobuf>=3.6.0 in /usr/local/lib/python3.7/dist-packages (from tensorboard->keras-tuner) (3.17.3)\n",
            "Requirement already satisfied: werkzeug>=0.11.15 in /usr/local/lib/python3.7/dist-packages (from tensorboard->keras-tuner) (1.0.1)\n",
            "Requirement already satisfied: tensorboard-plugin-wit>=1.6.0 in /usr/local/lib/python3.7/dist-packages (from tensorboard->keras-tuner) (1.8.0)\n",
            "Requirement already satisfied: absl-py>=0.4 in /usr/local/lib/python3.7/dist-packages (from tensorboard->keras-tuner) (0.12.0)\n",
            "Requirement already satisfied: grpcio>=1.24.3 in /usr/local/lib/python3.7/dist-packages (from tensorboard->keras-tuner) (1.42.0)\n",
            "Requirement already satisfied: tensorboard-data-server<0.7.0,>=0.6.0 in /usr/local/lib/python3.7/dist-packages (from tensorboard->keras-tuner) (0.6.1)\n",
            "Requirement already satisfied: google-auth-oauthlib<0.5,>=0.4.1 in /usr/local/lib/python3.7/dist-packages (from tensorboard->keras-tuner) (0.4.6)\n",
            "Requirement already satisfied: markdown>=2.6.8 in /usr/local/lib/python3.7/dist-packages (from tensorboard->keras-tuner) (3.3.6)\n",
            "Requirement already satisfied: rsa<5,>=3.1.4 in /usr/local/lib/python3.7/dist-packages (from google-auth<3,>=1.6.3->tensorboard->keras-tuner) (4.7.2)\n",
            "Requirement already satisfied: pyasn1-modules>=0.2.1 in /usr/local/lib/python3.7/dist-packages (from google-auth<3,>=1.6.3->tensorboard->keras-tuner) (0.2.8)\n",
            "Requirement already satisfied: cachetools<5.0,>=2.0.0 in /usr/local/lib/python3.7/dist-packages (from google-auth<3,>=1.6.3->tensorboard->keras-tuner) (4.2.4)\n",
            "Requirement already satisfied: requests-oauthlib>=0.7.0 in /usr/local/lib/python3.7/dist-packages (from google-auth-oauthlib<0.5,>=0.4.1->tensorboard->keras-tuner) (1.3.0)\n",
            "Requirement already satisfied: importlib-metadata>=4.4 in /usr/local/lib/python3.7/dist-packages (from markdown>=2.6.8->tensorboard->keras-tuner) (4.8.2)\n",
            "Requirement already satisfied: zipp>=0.5 in /usr/local/lib/python3.7/dist-packages (from importlib-metadata>=4.4->markdown>=2.6.8->tensorboard->keras-tuner) (3.6.0)\n",
            "Requirement already satisfied: typing-extensions>=3.6.4 in /usr/local/lib/python3.7/dist-packages (from importlib-metadata>=4.4->markdown>=2.6.8->tensorboard->keras-tuner) (3.10.0.2)\n",
            "Requirement already satisfied: pyasn1<0.5.0,>=0.4.6 in /usr/local/lib/python3.7/dist-packages (from pyasn1-modules>=0.2.1->google-auth<3,>=1.6.3->tensorboard->keras-tuner) (0.4.8)\n",
            "Requirement already satisfied: oauthlib>=3.0.0 in /usr/local/lib/python3.7/dist-packages (from requests-oauthlib>=0.7.0->google-auth-oauthlib<0.5,>=0.4.1->tensorboard->keras-tuner) (3.1.1)\n",
            "Installing collected packages: kt-legacy, keras-tuner\n",
            "Successfully installed keras-tuner-1.1.0 kt-legacy-1.0.4\n"
          ]
        }
      ]
    },
    {
      "cell_type": "code",
      "metadata": {
        "id": "q8mxXB6QDDr4"
      },
      "source": [
        "# Define tuner\n",
        "import keras_tuner as kt\n",
        "tuner = kt.Hyperband(\n",
        "    create_model,\n",
        "    objective=\"val_accuracy\",\n",
        "    max_epochs=20,\n",
        "    hyperband_iterations=2)"
      ],
      "execution_count": 8,
      "outputs": []
    },
    {
      "cell_type": "code",
      "metadata": {
        "colab": {
          "base_uri": "https://localhost:8080/"
        },
        "id": "d9fXvuMbDJ34",
        "outputId": "a185f6c9-db1f-4653-c183-13ec711301fa"
      },
      "source": [
        "# Run the kerastuner search for best hyperparameters\n",
        "tuner.search(X_train_scaled, y_train, epochs=20, validation_data=(X_test_scaled,y_test))"
      ],
      "execution_count": 9,
      "outputs": [
        {
          "output_type": "stream",
          "name": "stdout",
          "text": [
            "Trial 60 Complete [00h 00m 29s]\n",
            "val_accuracy: 0.7233819365501404\n",
            "\n",
            "Best val_accuracy So Far: 0.727580189704895\n",
            "Total elapsed time: 00h 13m 25s\n",
            "INFO:tensorflow:Oracle triggered exit\n"
          ]
        }
      ]
    },
    {
      "cell_type": "code",
      "metadata": {
        "colab": {
          "base_uri": "https://localhost:8080/"
        },
        "id": "5hZ2p96AJJXI",
        "outputId": "f66fe2de-b69b-47e0-e177-e88609fb307e"
      },
      "source": [
        "# Get best model hyperparameters\n",
        "best_hyper = tuner.get_best_hyperparameters(1)[0]\n",
        "best_hyper.values\n"
      ],
      "execution_count": 10,
      "outputs": [
        {
          "output_type": "execute_result",
          "data": {
            "text/plain": [
              "{'activation': 'sigmoid',\n",
              " 'first_units': 9,\n",
              " 'num_layers': 4,\n",
              " 'tuner/bracket': 2,\n",
              " 'tuner/epochs': 7,\n",
              " 'tuner/initial_epoch': 3,\n",
              " 'tuner/round': 1,\n",
              " 'tuner/trial_id': '4a1a9ed48e3972fc5bca17ea126c6264',\n",
              " 'units_0': 7,\n",
              " 'units_1': 9,\n",
              " 'units_2': 7,\n",
              " 'units_3': 7,\n",
              " 'units_4': 9}"
            ]
          },
          "metadata": {},
          "execution_count": 10
        }
      ]
    },
    {
      "cell_type": "code",
      "metadata": {
        "colab": {
          "base_uri": "https://localhost:8080/"
        },
        "id": "Ch22shqDCRBe",
        "outputId": "55ed67aa-cdd1-4ffe-e9e2-e1abf8bffc1f"
      },
      "source": [
        "# Define the model - deep neural net, i.e., the number of input features and hidden nodes for each layer.\n",
        "nn2a = tf.keras.models.Sequential()\n",
        "\n",
        "# First hidden layer\n",
        "nn2a.add(tf.keras.layers.Dense(units=7, activation=\"sigmoid\", input_dim=49))\n",
        "\n",
        "# Second hidden layer\n",
        "nn2a.add(tf.keras.layers.Dense(units=9, activation=\"sigmoid\"))\n",
        "nn2a.add(tf.keras.layers.Dense(units=7, activation=\"sigmoid\"))\n",
        "nn2a.add(tf.keras.layers.Dense(units=7, activation=\"sigmoid\"))\n",
        "nn2a.add(tf.keras.layers.Dense(units=9, activation=\"sigmoid\"))\n",
        "\n",
        "# Output layer\n",
        "nn2a.add(tf.keras.layers.Dense(units=1, activation=\"sigmoid\"))\n",
        "\n",
        "# Check the structure of the model\n",
        "nn2a.summary()"
      ],
      "execution_count": 29,
      "outputs": [
        {
          "output_type": "stream",
          "name": "stdout",
          "text": [
            "Model: \"sequential_5\"\n",
            "_________________________________________________________________\n",
            " Layer (type)                Output Shape              Param #   \n",
            "=================================================================\n",
            " dense_27 (Dense)            (None, 7)                 350       \n",
            "                                                                 \n",
            " dense_28 (Dense)            (None, 9)                 72        \n",
            "                                                                 \n",
            " dense_29 (Dense)            (None, 7)                 70        \n",
            "                                                                 \n",
            " dense_30 (Dense)            (None, 7)                 56        \n",
            "                                                                 \n",
            " dense_31 (Dense)            (None, 9)                 72        \n",
            "                                                                 \n",
            " dense_32 (Dense)            (None, 1)                 10        \n",
            "                                                                 \n",
            "=================================================================\n",
            "Total params: 630\n",
            "Trainable params: 630\n",
            "Non-trainable params: 0\n",
            "_________________________________________________________________\n"
          ]
        }
      ]
    },
    {
      "cell_type": "code",
      "metadata": {
        "colab": {
          "base_uri": "https://localhost:8080/"
        },
        "id": "9MWwPioICkz0",
        "outputId": "232198ce-cfd1-4263-c5ce-c346a7ec2bef"
      },
      "source": [
        "# Compile the model\n",
        "nn2a.compile(loss=\"binary_crossentropy\", optimizer=\"adam\", metrics=[\"accuracy\", \"AUC\"],steps_per_execution=None)\n",
        "# Train the model\n",
        "fit_output = nn2a.fit(X_train_scaled, y_train, epochs=20)"
      ],
      "execution_count": 30,
      "outputs": [
        {
          "output_type": "stream",
          "name": "stdout",
          "text": [
            "Epoch 1/20\n",
            "804/804 [==============================] - 2s 2ms/step - loss: 0.6775 - accuracy: 0.5644 - auc: 0.6326\n",
            "Epoch 2/20\n",
            "804/804 [==============================] - 1s 2ms/step - loss: 0.5823 - accuracy: 0.7292 - auc: 0.7424\n",
            "Epoch 3/20\n",
            "804/804 [==============================] - 1s 1ms/step - loss: 0.5756 - accuracy: 0.7305 - auc: 0.7506\n",
            "Epoch 4/20\n",
            "804/804 [==============================] - 1s 1ms/step - loss: 0.5736 - accuracy: 0.7306 - auc: 0.7547\n",
            "Epoch 5/20\n",
            "804/804 [==============================] - 1s 2ms/step - loss: 0.5729 - accuracy: 0.7307 - auc: 0.7559\n",
            "Epoch 6/20\n",
            "804/804 [==============================] - 1s 2ms/step - loss: 0.5725 - accuracy: 0.7313 - auc: 0.7567\n",
            "Epoch 7/20\n",
            "804/804 [==============================] - 1s 2ms/step - loss: 0.5722 - accuracy: 0.7322 - auc: 0.7575\n",
            "Epoch 8/20\n",
            "804/804 [==============================] - 1s 1ms/step - loss: 0.5719 - accuracy: 0.7314 - auc: 0.7584\n",
            "Epoch 9/20\n",
            "804/804 [==============================] - 1s 2ms/step - loss: 0.5717 - accuracy: 0.7323 - auc: 0.7586\n",
            "Epoch 10/20\n",
            "804/804 [==============================] - 1s 1ms/step - loss: 0.5715 - accuracy: 0.7317 - auc: 0.7591\n",
            "Epoch 11/20\n",
            "804/804 [==============================] - 1s 1ms/step - loss: 0.5712 - accuracy: 0.7314 - auc: 0.7599\n",
            "Epoch 12/20\n",
            "804/804 [==============================] - 1s 2ms/step - loss: 0.5709 - accuracy: 0.7329 - auc: 0.7604\n",
            "Epoch 13/20\n",
            "804/804 [==============================] - 1s 2ms/step - loss: 0.5706 - accuracy: 0.7317 - auc: 0.7611\n",
            "Epoch 14/20\n",
            "804/804 [==============================] - 1s 2ms/step - loss: 0.5704 - accuracy: 0.7325 - auc: 0.7607\n",
            "Epoch 15/20\n",
            "804/804 [==============================] - 1s 1ms/step - loss: 0.5696 - accuracy: 0.7335 - auc: 0.7635\n",
            "Epoch 16/20\n",
            "804/804 [==============================] - 1s 2ms/step - loss: 0.5693 - accuracy: 0.7318 - auc: 0.7645\n",
            "Epoch 17/20\n",
            "804/804 [==============================] - 1s 2ms/step - loss: 0.5687 - accuracy: 0.7322 - auc: 0.7673\n",
            "Epoch 18/20\n",
            "804/804 [==============================] - 1s 1ms/step - loss: 0.5673 - accuracy: 0.7328 - auc: 0.7717\n",
            "Epoch 19/20\n",
            "804/804 [==============================] - 1s 2ms/step - loss: 0.5643 - accuracy: 0.7319 - auc: 0.7767\n",
            "Epoch 20/20\n",
            "804/804 [==============================] - 1s 1ms/step - loss: 0.5611 - accuracy: 0.7313 - auc: 0.7798\n"
          ]
        }
      ]
    },
    {
      "cell_type": "code",
      "metadata": {
        "colab": {
          "base_uri": "https://localhost:8080/"
        },
        "id": "-X_uzIB1K_uf",
        "outputId": "932a9aa8-9ab4-4d45-e0f2-a5a944429544"
      },
      "source": [
        "# Evaluate the model using the test data\n",
        "model_loss, model_accuracy, model_AUC = nn2a.evaluate(X_test_scaled,y_test,verbose=2)\n",
        "print(f\"Loss: {model_loss}, Accuracy: {model_accuracy}, AUC: {model_AUC}\")"
      ],
      "execution_count": 31,
      "outputs": [
        {
          "output_type": "stream",
          "name": "stdout",
          "text": [
            "268/268 - 0s - loss: 0.5663 - accuracy: 0.7255 - auc: 0.7763 - 443ms/epoch - 2ms/step\n",
            "Loss: 0.5662625432014465, Accuracy: 0.7254810333251953, AUC: 0.7763407826423645\n"
          ]
        }
      ]
    },
    {
      "cell_type": "markdown",
      "metadata": {
        "id": "lpDgSQQlBfcQ"
      },
      "source": [
        "Optimisation 3 : adjust input data"
      ]
    },
    {
      "cell_type": "code",
      "metadata": {
        "id": "u26HteLSBefw"
      },
      "source": [
        "# Remove columns ORGANIZATION, STATUS\n",
        "# Change Other Classification to all values less than 500\n",
        "classifications_to_replace = val_counts.loc[val_counts < 500].index\n",
        "\n",
        "# Replace in dataframe\n",
        "for cls in classifications_to_replace:\n",
        "    application_df['CLASSIFICATION'] = application_df['CLASSIFICATION'].replace(cls,\"Other\")\n",
        "\n",
        "# Remove columns ORGANIZATION, STATUS\n",
        "application_df_2 = application_df.drop(['ORGANIZATION', 'STATUS'], axis=1)\n",
        "\n"
      ],
      "execution_count": 16,
      "outputs": []
    },
    {
      "cell_type": "code",
      "metadata": {
        "id": "GQqb_B-3L-kZ"
      },
      "source": [
        "# Convert categorical data to numeric with `pd.get_dummies`\n",
        "app_dummies_2 = pd.get_dummies(application_df_2)\n",
        "\n",
        "# Split our preprocessed data into our features and target arrays\n",
        "target = app_dummies_2['IS_SUCCESSFUL']\n",
        "app_dummies_2 = app_dummies_2.drop('IS_SUCCESSFUL', axis=1)\n",
        "\n",
        "# Split the preprocessed data into a training and testing dataset\n",
        "(X_train_2, X_test_2, y_train_2, y_test_2) = train_test_split(app_dummies_2, target, random_state=76)\n",
        "\n",
        "# Create a StandardScaler instances\n",
        "scaler = StandardScaler()\n",
        "\n",
        "# Fit the StandardScaler\n",
        "X_scaler_2 = scaler.fit(X_train_2)\n",
        "\n",
        "# Scale the data\n",
        "X_train_scaled_2 = X_scaler_2.transform(X_train_2)\n",
        "X_test_scaled_2 = X_scaler_2.transform(X_test_2)"
      ],
      "execution_count": 17,
      "outputs": []
    },
    {
      "cell_type": "code",
      "metadata": {
        "colab": {
          "base_uri": "https://localhost:8080/"
        },
        "id": "ZfiBtiqkMv5F",
        "outputId": "72c59536-2e5d-4f55-a5da-9475c7f67254"
      },
      "source": [
        "# Define the model - deep neural net, i.e., the number of input features and hidden nodes for each layer.\n",
        "nn3 = tf.keras.models.Sequential()\n",
        "\n",
        "# First hidden layer\n",
        "nn3.add(tf.keras.layers.Dense(units=7, activation=\"sigmoid\", input_dim=39))\n",
        "\n",
        "# Second hidden layer\n",
        "nn3.add(tf.keras.layers.Dense(units=9, activation=\"sigmoid\"))\n",
        "nn3.add(tf.keras.layers.Dense(units=7, activation=\"sigmoid\"))\n",
        "nn3.add(tf.keras.layers.Dense(units=7, activation=\"sigmoid\"))\n",
        "nn3.add(tf.keras.layers.Dense(units=9, activation=\"sigmoid\"))\n",
        "\n",
        "# Output layer\n",
        "nn3.add(tf.keras.layers.Dense(units=1, activation=\"sigmoid\"))\n",
        "\n",
        "# Check the structure of the model\n",
        "nn3.summary()"
      ],
      "execution_count": 32,
      "outputs": [
        {
          "output_type": "stream",
          "name": "stdout",
          "text": [
            "Model: \"sequential_6\"\n",
            "_________________________________________________________________\n",
            " Layer (type)                Output Shape              Param #   \n",
            "=================================================================\n",
            " dense_33 (Dense)            (None, 7)                 280       \n",
            "                                                                 \n",
            " dense_34 (Dense)            (None, 9)                 72        \n",
            "                                                                 \n",
            " dense_35 (Dense)            (None, 7)                 70        \n",
            "                                                                 \n",
            " dense_36 (Dense)            (None, 7)                 56        \n",
            "                                                                 \n",
            " dense_37 (Dense)            (None, 9)                 72        \n",
            "                                                                 \n",
            " dense_38 (Dense)            (None, 1)                 10        \n",
            "                                                                 \n",
            "=================================================================\n",
            "Total params: 560\n",
            "Trainable params: 560\n",
            "Non-trainable params: 0\n",
            "_________________________________________________________________\n"
          ]
        }
      ]
    },
    {
      "cell_type": "code",
      "metadata": {
        "id": "D1gh5bs6Napw"
      },
      "source": [
        "# Compile the model\n",
        "nn3.compile(loss=\"binary_crossentropy\", optimizer=\"adam\", metrics=[\"accuracy\", \"AUC\"],steps_per_execution=None)"
      ],
      "execution_count": 33,
      "outputs": []
    },
    {
      "cell_type": "code",
      "metadata": {
        "colab": {
          "base_uri": "https://localhost:8080/"
        },
        "id": "diVKubBKNkk3",
        "outputId": "4adf6140-43c7-48a8-adae-c0373d0f8c79"
      },
      "source": [
        "# Train the model\n",
        "fit_output = nn3.fit(X_train_scaled_2, y_train_2, epochs=20)"
      ],
      "execution_count": 34,
      "outputs": [
        {
          "output_type": "stream",
          "name": "stdout",
          "text": [
            "Epoch 1/20\n",
            "804/804 [==============================] - 2s 2ms/step - loss: 0.6770 - accuracy: 0.5788 - auc: 0.6295\n",
            "Epoch 2/20\n",
            "804/804 [==============================] - 1s 1ms/step - loss: 0.5844 - accuracy: 0.7254 - auc: 0.7391\n",
            "Epoch 3/20\n",
            "804/804 [==============================] - 1s 2ms/step - loss: 0.5798 - accuracy: 0.7276 - auc: 0.7461\n",
            "Epoch 4/20\n",
            "804/804 [==============================] - 1s 2ms/step - loss: 0.5790 - accuracy: 0.7269 - auc: 0.7501\n",
            "Epoch 5/20\n",
            "804/804 [==============================] - 1s 2ms/step - loss: 0.5782 - accuracy: 0.7278 - auc: 0.7502\n",
            "Epoch 6/20\n",
            "804/804 [==============================] - 1s 2ms/step - loss: 0.5778 - accuracy: 0.7269 - auc: 0.7521\n",
            "Epoch 7/20\n",
            "804/804 [==============================] - 1s 2ms/step - loss: 0.5773 - accuracy: 0.7261 - auc: 0.7507\n",
            "Epoch 8/20\n",
            "804/804 [==============================] - 1s 2ms/step - loss: 0.5768 - accuracy: 0.7279 - auc: 0.7534\n",
            "Epoch 9/20\n",
            "804/804 [==============================] - 1s 2ms/step - loss: 0.5764 - accuracy: 0.7278 - auc: 0.7541\n",
            "Epoch 10/20\n",
            "804/804 [==============================] - 1s 1ms/step - loss: 0.5762 - accuracy: 0.7285 - auc: 0.7531\n",
            "Epoch 11/20\n",
            "804/804 [==============================] - 1s 2ms/step - loss: 0.5759 - accuracy: 0.7278 - auc: 0.7542\n",
            "Epoch 12/20\n",
            "804/804 [==============================] - 1s 1ms/step - loss: 0.5758 - accuracy: 0.7285 - auc: 0.7540\n",
            "Epoch 13/20\n",
            "804/804 [==============================] - 1s 2ms/step - loss: 0.5755 - accuracy: 0.7281 - auc: 0.7549\n",
            "Epoch 14/20\n",
            "804/804 [==============================] - 1s 2ms/step - loss: 0.5753 - accuracy: 0.7281 - auc: 0.7563\n",
            "Epoch 15/20\n",
            "804/804 [==============================] - 1s 2ms/step - loss: 0.5749 - accuracy: 0.7284 - auc: 0.7558\n",
            "Epoch 16/20\n",
            "804/804 [==============================] - 1s 2ms/step - loss: 0.5746 - accuracy: 0.7283 - auc: 0.7580\n",
            "Epoch 17/20\n",
            "804/804 [==============================] - 1s 2ms/step - loss: 0.5743 - accuracy: 0.7273 - auc: 0.7588\n",
            "Epoch 18/20\n",
            "804/804 [==============================] - 1s 2ms/step - loss: 0.5740 - accuracy: 0.7289 - auc: 0.7581\n",
            "Epoch 19/20\n",
            "804/804 [==============================] - 1s 2ms/step - loss: 0.5739 - accuracy: 0.7285 - auc: 0.7596\n",
            "Epoch 20/20\n",
            "804/804 [==============================] - 1s 2ms/step - loss: 0.5737 - accuracy: 0.7289 - auc: 0.7601\n"
          ]
        }
      ]
    },
    {
      "cell_type": "code",
      "metadata": {
        "colab": {
          "base_uri": "https://localhost:8080/"
        },
        "id": "OjbPgL4FN463",
        "outputId": "e0c62c6f-c628-45b9-e3c0-eb9dc9fea8a4"
      },
      "source": [
        "# Evaluate the model using the test data\n",
        "model_loss, model_accuracy, model_AUC = nn3.evaluate(X_test_scaled_2,y_test_2,verbose=2)\n",
        "print(f\"Loss: {model_loss}, Accuracy: {model_accuracy}, AUC: {model_AUC}\")"
      ],
      "execution_count": 35,
      "outputs": [
        {
          "output_type": "stream",
          "name": "stdout",
          "text": [
            "268/268 - 0s - loss: 0.5811 - accuracy: 0.7230 - auc: 0.7558 - 444ms/epoch - 2ms/step\n",
            "Loss: 0.5811153650283813, Accuracy: 0.7230320572853088, AUC: 0.7558122277259827\n"
          ]
        }
      ]
    },
    {
      "cell_type": "markdown",
      "metadata": {
        "id": "-Bn-Ecln3GtM"
      },
      "source": [
        "Optimisation 4: increasing model complexity of new model"
      ]
    },
    {
      "cell_type": "code",
      "metadata": {
        "colab": {
          "base_uri": "https://localhost:8080/"
        },
        "id": "WRTgPfNz2_Tl",
        "outputId": "92d29c3d-082b-4447-eb3e-eb402117c107"
      },
      "source": [
        "# Define the model - deep neural net, i.e., the number of input features and hidden nodes for each layer.\n",
        "nn4 = tf.keras.models.Sequential()\n",
        "\n",
        "# First hidden layer\n",
        "nn4.add(tf.keras.layers.Dense(units=15, activation=\"sigmoid\", input_dim=49))\n",
        "\n",
        "# Second hidden layer\n",
        "nn4.add(tf.keras.layers.Dense(units=15, activation=\"sigmoid\"))\n",
        "nn4.add(tf.keras.layers.Dense(units=15, activation=\"sigmoid\"))\n",
        "nn4.add(tf.keras.layers.Dense(units=10, activation=\"sigmoid\"))\n",
        "nn4.add(tf.keras.layers.Dense(units=10, activation=\"sigmoid\"))\n",
        "\n",
        "# Output layer\n",
        "nn4.add(tf.keras.layers.Dense(units=1, activation=\"sigmoid\"))\n",
        "\n",
        "# Check the structure of the model\n",
        "nn4.summary()"
      ],
      "execution_count": 38,
      "outputs": [
        {
          "output_type": "stream",
          "name": "stdout",
          "text": [
            "Model: \"sequential_8\"\n",
            "_________________________________________________________________\n",
            " Layer (type)                Output Shape              Param #   \n",
            "=================================================================\n",
            " dense_45 (Dense)            (None, 15)                750       \n",
            "                                                                 \n",
            " dense_46 (Dense)            (None, 15)                240       \n",
            "                                                                 \n",
            " dense_47 (Dense)            (None, 15)                240       \n",
            "                                                                 \n",
            " dense_48 (Dense)            (None, 10)                160       \n",
            "                                                                 \n",
            " dense_49 (Dense)            (None, 10)                110       \n",
            "                                                                 \n",
            " dense_50 (Dense)            (None, 1)                 11        \n",
            "                                                                 \n",
            "=================================================================\n",
            "Total params: 1,511\n",
            "Trainable params: 1,511\n",
            "Non-trainable params: 0\n",
            "_________________________________________________________________\n"
          ]
        }
      ]
    },
    {
      "cell_type": "code",
      "metadata": {
        "colab": {
          "base_uri": "https://localhost:8080/"
        },
        "id": "v5lv2qp13mEF",
        "outputId": "c5f92a84-1d00-4afc-ceae-4aad6c4c5ac9"
      },
      "source": [
        "# Compile the model\n",
        "nn4.compile(loss=\"binary_crossentropy\", optimizer=\"adam\", metrics=[\"accuracy\", \"AUC\"],steps_per_execution=None)\n",
        "# Train the model\n",
        "fit_output = nn4.fit(X_train_scaled, y_train, epochs=20)"
      ],
      "execution_count": 39,
      "outputs": [
        {
          "output_type": "stream",
          "name": "stdout",
          "text": [
            "Epoch 1/20\n",
            "804/804 [==============================] - 2s 2ms/step - loss: 0.6709 - accuracy: 0.5940 - auc: 0.6290\n",
            "Epoch 2/20\n",
            "804/804 [==============================] - 1s 2ms/step - loss: 0.5782 - accuracy: 0.7294 - auc: 0.7457\n",
            "Epoch 3/20\n",
            "804/804 [==============================] - 1s 2ms/step - loss: 0.5736 - accuracy: 0.7310 - auc: 0.7547\n",
            "Epoch 4/20\n",
            "804/804 [==============================] - 1s 2ms/step - loss: 0.5726 - accuracy: 0.7305 - auc: 0.7559\n",
            "Epoch 5/20\n",
            "804/804 [==============================] - 1s 2ms/step - loss: 0.5723 - accuracy: 0.7312 - auc: 0.7571\n",
            "Epoch 6/20\n",
            "804/804 [==============================] - 1s 2ms/step - loss: 0.5720 - accuracy: 0.7306 - auc: 0.7584\n",
            "Epoch 7/20\n",
            "804/804 [==============================] - 1s 2ms/step - loss: 0.5715 - accuracy: 0.7306 - auc: 0.7584\n",
            "Epoch 8/20\n",
            "804/804 [==============================] - 1s 2ms/step - loss: 0.5715 - accuracy: 0.7306 - auc: 0.7592\n",
            "Epoch 9/20\n",
            "804/804 [==============================] - 1s 2ms/step - loss: 0.5712 - accuracy: 0.7316 - auc: 0.7583\n",
            "Epoch 10/20\n",
            "804/804 [==============================] - 1s 2ms/step - loss: 0.5706 - accuracy: 0.7311 - auc: 0.7620\n",
            "Epoch 11/20\n",
            "804/804 [==============================] - 1s 2ms/step - loss: 0.5706 - accuracy: 0.7320 - auc: 0.7600\n",
            "Epoch 12/20\n",
            "804/804 [==============================] - 1s 2ms/step - loss: 0.5705 - accuracy: 0.7319 - auc: 0.7605\n",
            "Epoch 13/20\n",
            "804/804 [==============================] - 1s 2ms/step - loss: 0.5702 - accuracy: 0.7323 - auc: 0.7615\n",
            "Epoch 14/20\n",
            "804/804 [==============================] - 1s 2ms/step - loss: 0.5698 - accuracy: 0.7323 - auc: 0.7623\n",
            "Epoch 15/20\n",
            "804/804 [==============================] - 1s 2ms/step - loss: 0.5694 - accuracy: 0.7334 - auc: 0.7642\n",
            "Epoch 16/20\n",
            "804/804 [==============================] - 1s 2ms/step - loss: 0.5691 - accuracy: 0.7318 - auc: 0.7657\n",
            "Epoch 17/20\n",
            "804/804 [==============================] - 1s 2ms/step - loss: 0.5685 - accuracy: 0.7319 - auc: 0.7673\n",
            "Epoch 18/20\n",
            "804/804 [==============================] - 1s 2ms/step - loss: 0.5671 - accuracy: 0.7329 - auc: 0.7707\n",
            "Epoch 19/20\n",
            "804/804 [==============================] - 1s 2ms/step - loss: 0.5638 - accuracy: 0.7315 - auc: 0.7778\n",
            "Epoch 20/20\n",
            "804/804 [==============================] - 1s 2ms/step - loss: 0.5579 - accuracy: 0.7322 - auc: 0.7828\n"
          ]
        }
      ]
    },
    {
      "cell_type": "code",
      "metadata": {
        "colab": {
          "base_uri": "https://localhost:8080/"
        },
        "id": "gLNQ6M6235xN",
        "outputId": "c5bb1abe-0dc9-4aa0-80d4-b94f403750c5"
      },
      "source": [
        "# Evaluate the model using the test data\n",
        "model_loss, model_accuracy, model_AUC = nn4.evaluate(X_test_scaled,y_test,verbose=2)\n",
        "print(f\"Loss: {model_loss}, Accuracy: {model_accuracy}, AUC: {model_AUC}\")"
      ],
      "execution_count": 40,
      "outputs": [
        {
          "output_type": "stream",
          "name": "stdout",
          "text": [
            "268/268 - 0s - loss: 0.5636 - accuracy: 0.7275 - auc: 0.7756 - 433ms/epoch - 2ms/step\n",
            "Loss: 0.5636324882507324, Accuracy: 0.7274635434150696, AUC: 0.7756137251853943\n"
          ]
        }
      ]
    },
    {
      "cell_type": "code",
      "metadata": {
        "id": "xyvHk5nQDXWW"
      },
      "source": [
        "# Save models as HDF5\n",
        "nn1.save('AlphabetSoupCharity_optimization_1.h5')\n",
        "nn2a.save('AlphabetSoupCharity_optimization_2.h5')\n",
        "nn3.save('AlphabetSoupCharity_optimization_3.h5')\n",
        "nn4.save('AlphabetSoupCharity_optimization_4.h5')"
      ],
      "execution_count": 25,
      "outputs": []
    }
  ]
}