{
  "nbformat": 4,
  "nbformat_minor": 0,
  "metadata": {
    "kernelspec": {
      "display_name": "Python 3",
      "language": "python",
      "name": "python3"
    },
    "language_info": {
      "codemirror_mode": {
        "name": "ipython",
        "version": 3
      },
      "file_extension": ".py",
      "mimetype": "text/x-python",
      "name": "python",
      "nbconvert_exporter": "python",
      "pygments_lexer": "ipython3",
      "version": "3.8.8"
    },
    "colab": {
      "name": "process_train.ipynb",
      "provenance": []
    }
  },
  "cells": [
    {
      "cell_type": "markdown",
      "metadata": {
        "id": "0pbgz0SWYQmW"
      },
      "source": [
        "## Preprocessing"
      ]
    },
    {
      "cell_type": "code",
      "metadata": {
        "colab": {
          "base_uri": "https://localhost:8080/",
          "height": 255
        },
        "id": "2N0HedoWYQma",
        "outputId": "025eb76a-c2cc-4113-d25b-627da807f973"
      },
      "source": [
        "# Import our dependencies\n",
        "from sklearn.model_selection import train_test_split\n",
        "from sklearn.preprocessing import StandardScaler\n",
        "import pandas as pd\n",
        "import tensorflow as tf\n",
        "\n",
        "#  Import and read the charity_data.csv.\n",
        "import pandas as pd \n",
        "application_df = pd.read_csv(\"charity_data.csv\")\n",
        "application_df.head()"
      ],
      "execution_count": null,
      "outputs": [
        {
          "output_type": "execute_result",
          "data": {
            "text/html": [
              "<div>\n",
              "<style scoped>\n",
              "    .dataframe tbody tr th:only-of-type {\n",
              "        vertical-align: middle;\n",
              "    }\n",
              "\n",
              "    .dataframe tbody tr th {\n",
              "        vertical-align: top;\n",
              "    }\n",
              "\n",
              "    .dataframe thead th {\n",
              "        text-align: right;\n",
              "    }\n",
              "</style>\n",
              "<table border=\"1\" class=\"dataframe\">\n",
              "  <thead>\n",
              "    <tr style=\"text-align: right;\">\n",
              "      <th></th>\n",
              "      <th>EIN</th>\n",
              "      <th>NAME</th>\n",
              "      <th>APPLICATION_TYPE</th>\n",
              "      <th>AFFILIATION</th>\n",
              "      <th>CLASSIFICATION</th>\n",
              "      <th>USE_CASE</th>\n",
              "      <th>ORGANIZATION</th>\n",
              "      <th>STATUS</th>\n",
              "      <th>INCOME_AMT</th>\n",
              "      <th>SPECIAL_CONSIDERATIONS</th>\n",
              "      <th>ASK_AMT</th>\n",
              "      <th>IS_SUCCESSFUL</th>\n",
              "    </tr>\n",
              "  </thead>\n",
              "  <tbody>\n",
              "    <tr>\n",
              "      <th>0</th>\n",
              "      <td>10520599</td>\n",
              "      <td>BLUE KNIGHTS MOTORCYCLE CLUB</td>\n",
              "      <td>T10</td>\n",
              "      <td>Independent</td>\n",
              "      <td>C1000</td>\n",
              "      <td>ProductDev</td>\n",
              "      <td>Association</td>\n",
              "      <td>1</td>\n",
              "      <td>0</td>\n",
              "      <td>N</td>\n",
              "      <td>5000</td>\n",
              "      <td>1</td>\n",
              "    </tr>\n",
              "    <tr>\n",
              "      <th>1</th>\n",
              "      <td>10531628</td>\n",
              "      <td>AMERICAN CHESAPEAKE CLUB CHARITABLE TR</td>\n",
              "      <td>T3</td>\n",
              "      <td>Independent</td>\n",
              "      <td>C2000</td>\n",
              "      <td>Preservation</td>\n",
              "      <td>Co-operative</td>\n",
              "      <td>1</td>\n",
              "      <td>1-9999</td>\n",
              "      <td>N</td>\n",
              "      <td>108590</td>\n",
              "      <td>1</td>\n",
              "    </tr>\n",
              "    <tr>\n",
              "      <th>2</th>\n",
              "      <td>10547893</td>\n",
              "      <td>ST CLOUD PROFESSIONAL FIREFIGHTERS</td>\n",
              "      <td>T5</td>\n",
              "      <td>CompanySponsored</td>\n",
              "      <td>C3000</td>\n",
              "      <td>ProductDev</td>\n",
              "      <td>Association</td>\n",
              "      <td>1</td>\n",
              "      <td>0</td>\n",
              "      <td>N</td>\n",
              "      <td>5000</td>\n",
              "      <td>0</td>\n",
              "    </tr>\n",
              "    <tr>\n",
              "      <th>3</th>\n",
              "      <td>10553066</td>\n",
              "      <td>SOUTHSIDE ATHLETIC ASSOCIATION</td>\n",
              "      <td>T3</td>\n",
              "      <td>CompanySponsored</td>\n",
              "      <td>C2000</td>\n",
              "      <td>Preservation</td>\n",
              "      <td>Trust</td>\n",
              "      <td>1</td>\n",
              "      <td>10000-24999</td>\n",
              "      <td>N</td>\n",
              "      <td>6692</td>\n",
              "      <td>1</td>\n",
              "    </tr>\n",
              "    <tr>\n",
              "      <th>4</th>\n",
              "      <td>10556103</td>\n",
              "      <td>GENETIC RESEARCH INSTITUTE OF THE DESERT</td>\n",
              "      <td>T3</td>\n",
              "      <td>Independent</td>\n",
              "      <td>C1000</td>\n",
              "      <td>Heathcare</td>\n",
              "      <td>Trust</td>\n",
              "      <td>1</td>\n",
              "      <td>100000-499999</td>\n",
              "      <td>N</td>\n",
              "      <td>142590</td>\n",
              "      <td>1</td>\n",
              "    </tr>\n",
              "  </tbody>\n",
              "</table>\n",
              "</div>"
            ],
            "text/plain": [
              "        EIN                                      NAME  ... ASK_AMT IS_SUCCESSFUL\n",
              "0  10520599              BLUE KNIGHTS MOTORCYCLE CLUB  ...    5000             1\n",
              "1  10531628    AMERICAN CHESAPEAKE CLUB CHARITABLE TR  ...  108590             1\n",
              "2  10547893        ST CLOUD PROFESSIONAL FIREFIGHTERS  ...    5000             0\n",
              "3  10553066            SOUTHSIDE ATHLETIC ASSOCIATION  ...    6692             1\n",
              "4  10556103  GENETIC RESEARCH INSTITUTE OF THE DESERT  ...  142590             1\n",
              "\n",
              "[5 rows x 12 columns]"
            ]
          },
          "metadata": {},
          "execution_count": 36
        }
      ]
    },
    {
      "cell_type": "code",
      "metadata": {
        "colab": {
          "base_uri": "https://localhost:8080/",
          "height": 204
        },
        "id": "1h6J8v2QYQmc",
        "outputId": "ada26d34-7e92-4868-afcd-10862f16194b"
      },
      "source": [
        "# Drop the non-beneficial ID columns, 'EIN' and 'NAME'.\n",
        "application_df = application_df.drop([\"EIN\", \"NAME\"], axis=1)\n",
        "application_df.head()"
      ],
      "execution_count": null,
      "outputs": [
        {
          "output_type": "execute_result",
          "data": {
            "text/html": [
              "<div>\n",
              "<style scoped>\n",
              "    .dataframe tbody tr th:only-of-type {\n",
              "        vertical-align: middle;\n",
              "    }\n",
              "\n",
              "    .dataframe tbody tr th {\n",
              "        vertical-align: top;\n",
              "    }\n",
              "\n",
              "    .dataframe thead th {\n",
              "        text-align: right;\n",
              "    }\n",
              "</style>\n",
              "<table border=\"1\" class=\"dataframe\">\n",
              "  <thead>\n",
              "    <tr style=\"text-align: right;\">\n",
              "      <th></th>\n",
              "      <th>APPLICATION_TYPE</th>\n",
              "      <th>AFFILIATION</th>\n",
              "      <th>CLASSIFICATION</th>\n",
              "      <th>USE_CASE</th>\n",
              "      <th>ORGANIZATION</th>\n",
              "      <th>STATUS</th>\n",
              "      <th>INCOME_AMT</th>\n",
              "      <th>SPECIAL_CONSIDERATIONS</th>\n",
              "      <th>ASK_AMT</th>\n",
              "      <th>IS_SUCCESSFUL</th>\n",
              "    </tr>\n",
              "  </thead>\n",
              "  <tbody>\n",
              "    <tr>\n",
              "      <th>0</th>\n",
              "      <td>T10</td>\n",
              "      <td>Independent</td>\n",
              "      <td>C1000</td>\n",
              "      <td>ProductDev</td>\n",
              "      <td>Association</td>\n",
              "      <td>1</td>\n",
              "      <td>0</td>\n",
              "      <td>N</td>\n",
              "      <td>5000</td>\n",
              "      <td>1</td>\n",
              "    </tr>\n",
              "    <tr>\n",
              "      <th>1</th>\n",
              "      <td>T3</td>\n",
              "      <td>Independent</td>\n",
              "      <td>C2000</td>\n",
              "      <td>Preservation</td>\n",
              "      <td>Co-operative</td>\n",
              "      <td>1</td>\n",
              "      <td>1-9999</td>\n",
              "      <td>N</td>\n",
              "      <td>108590</td>\n",
              "      <td>1</td>\n",
              "    </tr>\n",
              "    <tr>\n",
              "      <th>2</th>\n",
              "      <td>T5</td>\n",
              "      <td>CompanySponsored</td>\n",
              "      <td>C3000</td>\n",
              "      <td>ProductDev</td>\n",
              "      <td>Association</td>\n",
              "      <td>1</td>\n",
              "      <td>0</td>\n",
              "      <td>N</td>\n",
              "      <td>5000</td>\n",
              "      <td>0</td>\n",
              "    </tr>\n",
              "    <tr>\n",
              "      <th>3</th>\n",
              "      <td>T3</td>\n",
              "      <td>CompanySponsored</td>\n",
              "      <td>C2000</td>\n",
              "      <td>Preservation</td>\n",
              "      <td>Trust</td>\n",
              "      <td>1</td>\n",
              "      <td>10000-24999</td>\n",
              "      <td>N</td>\n",
              "      <td>6692</td>\n",
              "      <td>1</td>\n",
              "    </tr>\n",
              "    <tr>\n",
              "      <th>4</th>\n",
              "      <td>T3</td>\n",
              "      <td>Independent</td>\n",
              "      <td>C1000</td>\n",
              "      <td>Heathcare</td>\n",
              "      <td>Trust</td>\n",
              "      <td>1</td>\n",
              "      <td>100000-499999</td>\n",
              "      <td>N</td>\n",
              "      <td>142590</td>\n",
              "      <td>1</td>\n",
              "    </tr>\n",
              "  </tbody>\n",
              "</table>\n",
              "</div>"
            ],
            "text/plain": [
              "  APPLICATION_TYPE       AFFILIATION  ... ASK_AMT IS_SUCCESSFUL\n",
              "0              T10       Independent  ...    5000             1\n",
              "1               T3       Independent  ...  108590             1\n",
              "2               T5  CompanySponsored  ...    5000             0\n",
              "3               T3  CompanySponsored  ...    6692             1\n",
              "4               T3       Independent  ...  142590             1\n",
              "\n",
              "[5 rows x 10 columns]"
            ]
          },
          "metadata": {},
          "execution_count": 37
        }
      ]
    },
    {
      "cell_type": "code",
      "metadata": {
        "colab": {
          "base_uri": "https://localhost:8080/"
        },
        "id": "UTkO4gwlYQmc",
        "outputId": "1f316986-95e8-4670-c916-6cb23bff6f5e"
      },
      "source": [
        "# Determine the number of unique values in each column.\n",
        "application_df.nunique()"
      ],
      "execution_count": null,
      "outputs": [
        {
          "output_type": "execute_result",
          "data": {
            "text/plain": [
              "APPLICATION_TYPE            17\n",
              "AFFILIATION                  6\n",
              "CLASSIFICATION              71\n",
              "USE_CASE                     5\n",
              "ORGANIZATION                 4\n",
              "STATUS                       2\n",
              "INCOME_AMT                   9\n",
              "SPECIAL_CONSIDERATIONS       2\n",
              "ASK_AMT                   8747\n",
              "IS_SUCCESSFUL                2\n",
              "dtype: int64"
            ]
          },
          "metadata": {},
          "execution_count": 6
        }
      ]
    },
    {
      "cell_type": "code",
      "metadata": {
        "colab": {
          "base_uri": "https://localhost:8080/"
        },
        "id": "dgostYUmYQmd",
        "outputId": "20536434-8fe5-446d-d219-cd0485e06701"
      },
      "source": [
        "# Look at APPLICATION_TYPE value counts for binning\n",
        "application_df['APPLICATION_TYPE'].value_counts()"
      ],
      "execution_count": null,
      "outputs": [
        {
          "output_type": "execute_result",
          "data": {
            "text/plain": [
              "T3     27037\n",
              "T4      1542\n",
              "T6      1216\n",
              "T5      1173\n",
              "T19     1065\n",
              "T8       737\n",
              "T7       725\n",
              "T10      528\n",
              "T9       156\n",
              "T13       66\n",
              "T12       27\n",
              "T2        16\n",
              "T14        3\n",
              "T25        3\n",
              "T15        2\n",
              "T29        2\n",
              "T17        1\n",
              "Name: APPLICATION_TYPE, dtype: int64"
            ]
          },
          "metadata": {},
          "execution_count": 8
        }
      ]
    },
    {
      "cell_type": "code",
      "metadata": {
        "colab": {
          "base_uri": "https://localhost:8080/"
        },
        "id": "frqgVDtIYQmd",
        "outputId": "c56d5f2a-ddb1-4013-a7f3-cd6dd0c4a4ec"
      },
      "source": [
        "# Choose a cutoff value and create a list of application types to be replaced\n",
        "# use the variable name `application_types_to_replace`\n",
        "\n",
        "# All application types with less than 500 applications \n",
        "application_types_to_replace = ['T17', 'T29', 'T15', 'T25', 'T14', 'T2', 'T12', 'T13', 'T9']\n",
        "\n",
        "# Replace in dataframe\n",
        "for app in application_types_to_replace:\n",
        "    application_df['APPLICATION_TYPE'] = application_df['APPLICATION_TYPE'].replace(app,\"Other\")\n",
        "\n",
        "# Check to make sure binning was successful\n",
        "application_df['APPLICATION_TYPE'].value_counts()"
      ],
      "execution_count": null,
      "outputs": [
        {
          "output_type": "execute_result",
          "data": {
            "text/plain": [
              "T3       27037\n",
              "T4        1542\n",
              "T6        1216\n",
              "T5        1173\n",
              "T19       1065\n",
              "T8         737\n",
              "T7         725\n",
              "T10        528\n",
              "Other      276\n",
              "Name: APPLICATION_TYPE, dtype: int64"
            ]
          },
          "metadata": {},
          "execution_count": 38
        }
      ]
    },
    {
      "cell_type": "code",
      "metadata": {
        "colab": {
          "base_uri": "https://localhost:8080/"
        },
        "id": "ewqYGn7YYQme",
        "outputId": "2f89fd23-eb41-4f11-fdcd-f082a5874e45"
      },
      "source": [
        "# Look at CLASSIFICATION value counts for binning\n",
        "application_df['CLASSIFICATION'].value_counts()"
      ],
      "execution_count": null,
      "outputs": [
        {
          "output_type": "execute_result",
          "data": {
            "text/plain": [
              "C1000    17326\n",
              "C2000     6074\n",
              "C1200     4837\n",
              "C3000     1918\n",
              "C2100     1883\n",
              "         ...  \n",
              "C1236        1\n",
              "C2380        1\n",
              "C6100        1\n",
              "C1580        1\n",
              "C1570        1\n",
              "Name: CLASSIFICATION, Length: 71, dtype: int64"
            ]
          },
          "metadata": {},
          "execution_count": 23
        }
      ]
    },
    {
      "cell_type": "code",
      "metadata": {
        "colab": {
          "base_uri": "https://localhost:8080/"
        },
        "id": "v9gqYvGAYQme",
        "outputId": "91bda9fc-1dc5-431f-a3ca-7fa8fe11f890"
      },
      "source": [
        "# You may find it helpful to look at CLASSIFICATION value counts >1\n",
        "val_counts = application_df['CLASSIFICATION'].value_counts()\n",
        "val_counts.loc[val_counts > 1]"
      ],
      "execution_count": null,
      "outputs": [
        {
          "output_type": "execute_result",
          "data": {
            "text/plain": [
              "C1000    17326\n",
              "C2000     6074\n",
              "C1200     4837\n",
              "C3000     1918\n",
              "C2100     1883\n",
              "C7000      777\n",
              "C1700      287\n",
              "C4000      194\n",
              "C5000      116\n",
              "C1270      114\n",
              "C2700      104\n",
              "C2800       95\n",
              "C7100       75\n",
              "C1300       58\n",
              "C1280       50\n",
              "C1230       36\n",
              "C1400       34\n",
              "C2300       32\n",
              "C7200       32\n",
              "C1240       30\n",
              "C8000       20\n",
              "C7120       18\n",
              "C1500       16\n",
              "C6000       15\n",
              "C1800       15\n",
              "C1250       14\n",
              "C8200       11\n",
              "C1278       10\n",
              "C1238       10\n",
              "C1235        9\n",
              "C1237        9\n",
              "C7210        7\n",
              "C2400        6\n",
              "C1720        6\n",
              "C4100        6\n",
              "C1600        5\n",
              "C1257        5\n",
              "C2710        3\n",
              "C1260        3\n",
              "C0           3\n",
              "C3200        2\n",
              "C1267        2\n",
              "C1246        2\n",
              "C1256        2\n",
              "C1234        2\n",
              "Name: CLASSIFICATION, dtype: int64"
            ]
          },
          "metadata": {},
          "execution_count": 39
        }
      ]
    },
    {
      "cell_type": "code",
      "metadata": {
        "colab": {
          "base_uri": "https://localhost:8080/"
        },
        "id": "E7C2EfCrYQmf",
        "outputId": "5763f1ef-e0e1-48ff-b0b3-8818e6b3782e"
      },
      "source": [
        "# Choose a cutoff value and create a list of classifications to be replaced\n",
        "# use the variable name `classifications_to_replace`\n",
        "\n",
        "# All classifications less than 100\n",
        "classifications_to_replace = val_counts.loc[val_counts < 100].index\n",
        "\n",
        "# Replace in dataframe\n",
        "for cls in classifications_to_replace:\n",
        "    application_df['CLASSIFICATION'] = application_df['CLASSIFICATION'].replace(cls,\"Other\")\n",
        "    \n",
        "# Check to make sure binning was successful\n",
        "application_df['CLASSIFICATION'].value_counts()"
      ],
      "execution_count": null,
      "outputs": [
        {
          "output_type": "execute_result",
          "data": {
            "text/plain": [
              "C1000    17326\n",
              "C2000     6074\n",
              "C1200     4837\n",
              "C3000     1918\n",
              "C2100     1883\n",
              "C7000      777\n",
              "Other      669\n",
              "C1700      287\n",
              "C4000      194\n",
              "C5000      116\n",
              "C1270      114\n",
              "C2700      104\n",
              "Name: CLASSIFICATION, dtype: int64"
            ]
          },
          "metadata": {},
          "execution_count": 40
        }
      ]
    },
    {
      "cell_type": "code",
      "metadata": {
        "colab": {
          "base_uri": "https://localhost:8080/"
        },
        "id": "ZiiyOyXQYQmg",
        "outputId": "c3dfaec1-ac89-4405-ce6d-d65b15a40cc3"
      },
      "source": [
        "# Convert categorical data to numeric with `pd.get_dummies`\n",
        "app_dummies = pd.get_dummies(application_df)\n",
        "app_dummies.dtypes"
      ],
      "execution_count": null,
      "outputs": [
        {
          "output_type": "execute_result",
          "data": {
            "text/plain": [
              "STATUS                          int64\n",
              "ASK_AMT                         int64\n",
              "IS_SUCCESSFUL                   int64\n",
              "APPLICATION_TYPE_Other          uint8\n",
              "APPLICATION_TYPE_T10            uint8\n",
              "APPLICATION_TYPE_T19            uint8\n",
              "APPLICATION_TYPE_T3             uint8\n",
              "APPLICATION_TYPE_T4             uint8\n",
              "APPLICATION_TYPE_T5             uint8\n",
              "APPLICATION_TYPE_T6             uint8\n",
              "APPLICATION_TYPE_T7             uint8\n",
              "APPLICATION_TYPE_T8             uint8\n",
              "AFFILIATION_CompanySponsored    uint8\n",
              "AFFILIATION_Family/Parent       uint8\n",
              "AFFILIATION_Independent         uint8\n",
              "AFFILIATION_National            uint8\n",
              "AFFILIATION_Other               uint8\n",
              "AFFILIATION_Regional            uint8\n",
              "CLASSIFICATION_C1000            uint8\n",
              "CLASSIFICATION_C1200            uint8\n",
              "CLASSIFICATION_C1270            uint8\n",
              "CLASSIFICATION_C1700            uint8\n",
              "CLASSIFICATION_C2000            uint8\n",
              "CLASSIFICATION_C2100            uint8\n",
              "CLASSIFICATION_C2700            uint8\n",
              "CLASSIFICATION_C3000            uint8\n",
              "CLASSIFICATION_C4000            uint8\n",
              "CLASSIFICATION_C5000            uint8\n",
              "CLASSIFICATION_C7000            uint8\n",
              "CLASSIFICATION_Other            uint8\n",
              "USE_CASE_CommunityServ          uint8\n",
              "USE_CASE_Heathcare              uint8\n",
              "USE_CASE_Other                  uint8\n",
              "USE_CASE_Preservation           uint8\n",
              "USE_CASE_ProductDev             uint8\n",
              "ORGANIZATION_Association        uint8\n",
              "ORGANIZATION_Co-operative       uint8\n",
              "ORGANIZATION_Corporation        uint8\n",
              "ORGANIZATION_Trust              uint8\n",
              "INCOME_AMT_0                    uint8\n",
              "INCOME_AMT_1-9999               uint8\n",
              "INCOME_AMT_10000-24999          uint8\n",
              "INCOME_AMT_100000-499999        uint8\n",
              "INCOME_AMT_10M-50M              uint8\n",
              "INCOME_AMT_1M-5M                uint8\n",
              "INCOME_AMT_25000-99999          uint8\n",
              "INCOME_AMT_50M+                 uint8\n",
              "INCOME_AMT_5M-10M               uint8\n",
              "SPECIAL_CONSIDERATIONS_N        uint8\n",
              "SPECIAL_CONSIDERATIONS_Y        uint8\n",
              "dtype: object"
            ]
          },
          "metadata": {},
          "execution_count": 42
        }
      ]
    },
    {
      "cell_type": "code",
      "metadata": {
        "id": "HcIVcfdRYQmg"
      },
      "source": [
        "# Split our preprocessed data into our features and target arrays\n",
        "target = app_dummies['IS_SUCCESSFUL']\n",
        "app_dummies = app_dummies.drop('IS_SUCCESSFUL', axis=1)\n",
        "\n",
        "# Split the preprocessed data into a training and testing dataset\n",
        "(X_train, X_test, y_train, y_test) = train_test_split(app_dummies, target, random_state=76)"
      ],
      "execution_count": null,
      "outputs": []
    },
    {
      "cell_type": "code",
      "metadata": {
        "colab": {
          "base_uri": "https://localhost:8080/"
        },
        "id": "wvCgwozOiRPH",
        "outputId": "08e63817-f61a-45f1-b701-505e20dbfc91"
      },
      "source": [
        "# Get shape of df to determine number of features\n",
        "X_train.shape"
      ],
      "execution_count": null,
      "outputs": [
        {
          "output_type": "execute_result",
          "data": {
            "text/plain": [
              "(25724, 49)"
            ]
          },
          "metadata": {},
          "execution_count": 58
        }
      ]
    },
    {
      "cell_type": "code",
      "metadata": {
        "id": "Es-lOCjzYQmh"
      },
      "source": [
        "# Create a StandardScaler instances\n",
        "scaler = StandardScaler()\n",
        "\n",
        "# Fit the StandardScaler\n",
        "X_scaler = scaler.fit(X_train)\n",
        "\n",
        "# Scale the data\n",
        "X_train_scaled = X_scaler.transform(X_train)\n",
        "X_test_scaled = X_scaler.transform(X_test)"
      ],
      "execution_count": null,
      "outputs": []
    },
    {
      "cell_type": "markdown",
      "metadata": {
        "id": "5B4m4fOJYQmh"
      },
      "source": [
        "## Compile, Train and Evaluate the Model"
      ]
    },
    {
      "cell_type": "code",
      "metadata": {
        "colab": {
          "base_uri": "https://localhost:8080/"
        },
        "id": "KTzqHYcuYQmh",
        "outputId": "ca060536-841b-467d-d926-7e3a85860a88"
      },
      "source": [
        "# Define the model - deep neural net, i.e., the number of input features and hidden nodes for each layer.\n",
        "\n",
        "nn = tf.keras.models.Sequential()\n",
        "\n",
        "# First hidden layer\n",
        "nn.add(tf.keras.layers.Dense(units=10, activation=\"relu\", input_dim=49))\n",
        "\n",
        "# Second hidden layer\n",
        "nn.add(tf.keras.layers.Dense(units=5, activation=\"relu\"))\n",
        "\n",
        "# Output layer\n",
        "nn.add(tf.keras.layers.Dense(units=1, activation=\"sigmoid\"))\n",
        "\n",
        "# Check the structure of the model\n",
        "nn.summary()"
      ],
      "execution_count": null,
      "outputs": [
        {
          "output_type": "stream",
          "name": "stdout",
          "text": [
            "Model: \"sequential_2\"\n",
            "_________________________________________________________________\n",
            " Layer (type)                Output Shape              Param #   \n",
            "=================================================================\n",
            " dense_3 (Dense)             (None, 10)                500       \n",
            "                                                                 \n",
            " dense_4 (Dense)             (None, 5)                 55        \n",
            "                                                                 \n",
            " dense_5 (Dense)             (None, 1)                 6         \n",
            "                                                                 \n",
            "=================================================================\n",
            "Total params: 561\n",
            "Trainable params: 561\n",
            "Non-trainable params: 0\n",
            "_________________________________________________________________\n"
          ]
        }
      ]
    },
    {
      "cell_type": "code",
      "metadata": {
        "id": "bvMT-BAlYQmi"
      },
      "source": [
        "# Compile the model\n",
        "nn.compile(loss=\"binary_crossentropy\", optimizer=\"adam\", metrics=[\"accuracy\", \"AUC\"],steps_per_execution=None)"
      ],
      "execution_count": null,
      "outputs": []
    },
    {
      "cell_type": "code",
      "metadata": {
        "colab": {
          "base_uri": "https://localhost:8080/"
        },
        "id": "hepQK8XnYQmi",
        "outputId": "1eb7cb50-64f8-47c6-f185-1ab2e27067f1"
      },
      "source": [
        "# Set callback\n",
        "filepath = 'charity_model_{epoch:02d}.hdf5'\n",
        "checkpoint = tf.keras.callbacks.ModelCheckpoint(filepath=filepath, \n",
        "                             monitor='accuracy',\n",
        "                             save_weights_only=True,\n",
        "                             save_freq=5)\n",
        "callbacks = [checkpoint]\n",
        "\n",
        "# Train the model\n",
        "fit_output = nn.fit(X_train_scaled, y_train, epochs=20, callbacks=callbacks)"
      ],
      "execution_count": null,
      "outputs": [
        {
          "output_type": "stream",
          "name": "stdout",
          "text": [
            "Epoch 1/20\n",
            "804/804 [==============================] - 4s 4ms/step - loss: 0.5410 - accuracy: 0.7360 - auc: 0.7948\n",
            "Epoch 2/20\n",
            "804/804 [==============================] - 3s 4ms/step - loss: 0.5410 - accuracy: 0.7368 - auc: 0.7940\n",
            "Epoch 3/20\n",
            "804/804 [==============================] - 3s 3ms/step - loss: 0.5412 - accuracy: 0.7365 - auc: 0.7940\n",
            "Epoch 4/20\n",
            "804/804 [==============================] - 3s 3ms/step - loss: 0.5412 - accuracy: 0.7370 - auc: 0.7940\n",
            "Epoch 5/20\n",
            "804/804 [==============================] - 3s 4ms/step - loss: 0.5410 - accuracy: 0.7364 - auc: 0.7945\n",
            "Epoch 6/20\n",
            "804/804 [==============================] - 3s 3ms/step - loss: 0.5409 - accuracy: 0.7369 - auc: 0.7940\n",
            "Epoch 7/20\n",
            "804/804 [==============================] - 3s 4ms/step - loss: 0.5407 - accuracy: 0.7373 - auc: 0.7945\n",
            "Epoch 8/20\n",
            "804/804 [==============================] - 3s 3ms/step - loss: 0.5410 - accuracy: 0.7367 - auc: 0.7943\n",
            "Epoch 9/20\n",
            "804/804 [==============================] - 3s 3ms/step - loss: 0.5406 - accuracy: 0.7366 - auc: 0.7948\n",
            "Epoch 10/20\n",
            "804/804 [==============================] - 3s 3ms/step - loss: 0.5407 - accuracy: 0.7368 - auc: 0.7948\n",
            "Epoch 11/20\n",
            "804/804 [==============================] - 3s 4ms/step - loss: 0.5404 - accuracy: 0.7367 - auc: 0.7953\n",
            "Epoch 12/20\n",
            "804/804 [==============================] - 3s 3ms/step - loss: 0.5405 - accuracy: 0.7378 - auc: 0.7947\n",
            "Epoch 13/20\n",
            "804/804 [==============================] - 3s 3ms/step - loss: 0.5399 - accuracy: 0.7374 - auc: 0.7954\n",
            "Epoch 14/20\n",
            "804/804 [==============================] - 3s 4ms/step - loss: 0.5406 - accuracy: 0.7376 - auc: 0.7946\n",
            "Epoch 15/20\n",
            "804/804 [==============================] - 3s 3ms/step - loss: 0.5406 - accuracy: 0.7372 - auc: 0.7946\n",
            "Epoch 16/20\n",
            "804/804 [==============================] - 3s 3ms/step - loss: 0.5401 - accuracy: 0.7372 - auc: 0.7948\n",
            "Epoch 17/20\n",
            "804/804 [==============================] - 3s 3ms/step - loss: 0.5402 - accuracy: 0.7367 - auc: 0.7948\n",
            "Epoch 18/20\n",
            "804/804 [==============================] - 3s 3ms/step - loss: 0.5404 - accuracy: 0.7366 - auc: 0.7949\n",
            "Epoch 19/20\n",
            "804/804 [==============================] - 3s 4ms/step - loss: 0.5404 - accuracy: 0.7376 - auc: 0.7946\n",
            "Epoch 20/20\n",
            "804/804 [==============================] - 3s 4ms/step - loss: 0.5402 - accuracy: 0.7377 - auc: 0.7947\n"
          ]
        }
      ]
    },
    {
      "cell_type": "code",
      "metadata": {
        "colab": {
          "base_uri": "https://localhost:8080/"
        },
        "id": "brT3Rk3XYQmj",
        "outputId": "ad4520f3-7c6d-4887-d251-f27ab93d82c0"
      },
      "source": [
        "# Evaluate the model using the test data\n",
        "model_loss, model_accuracy, model_AUC = nn.evaluate(X_test_scaled,y_test,verbose=2)\n",
        "print(f\"Loss: {model_loss}, Accuracy: {model_accuracy}, AUC: {model_AUC}\")"
      ],
      "execution_count": null,
      "outputs": [
        {
          "output_type": "stream",
          "name": "stdout",
          "text": [
            "268/268 - 0s - loss: 0.5585 - accuracy: 0.7286 - auc: 0.7815 - 299ms/epoch - 1ms/step\n",
            "Loss: 0.5585342645645142, Accuracy: 0.7286297082901001, AUC: 0.781467080116272\n"
          ]
        }
      ]
    },
    {
      "cell_type": "code",
      "metadata": {
        "id": "VcYcxb7fYQmj"
      },
      "source": [
        "# Export our model to HDF5 file\n",
        "nn.save('AlphabetSoupCharity.h5')"
      ],
      "execution_count": null,
      "outputs": []
    }
  ]
}